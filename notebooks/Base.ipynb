{
 "cells": [
  {
   "cell_type": "code",
   "execution_count": null,
   "id": "52ba9dd9",
   "metadata": {},
   "outputs": [],
   "source": [
    "# Numbers, 0d tensor\n",
    "a = 1\n",
    "()\n",
    "\n",
    "# Vectors/ 1d tensor\n",
    "b = [1,2,3]\n",
    "(1,3)\n",
    "c = [[1], [2], [3]]\n",
    "(3,1)\n",
    "\n",
    "props = [\"Height\", \"Width\", \"Color\", \"Z\"]\n",
    "x1 = [123, 34, 3, 65]\n",
    "(4)\n",
    "\n",
    "# Matrix/ 2d tensor\n",
    "X = [\n",
    "    [1,2,3],\n",
    "    [4,5,6]\n",
    "]\n",
    "\n",
    "(2,3)\n",
    "\n",
    "(32, 480, 640, 3)"
   ]
  },
  {
   "cell_type": "code",
   "execution_count": 1,
   "id": "285a6623",
   "metadata": {},
   "outputs": [
    {
     "data": {
      "text/plain": [
       "(1,)"
      ]
     },
     "execution_count": 1,
     "metadata": {},
     "output_type": "execute_result"
    }
   ],
   "source": [
    "import numpy as np\n",
    "\n",
    "np.array([1]).shape"
   ]
  },
  {
   "cell_type": "code",
   "execution_count": 14,
   "id": "478623f6",
   "metadata": {},
   "outputs": [
    {
     "ename": "NameError",
     "evalue": "name 'x1' is not defined",
     "output_type": "error",
     "traceback": [
      "\u001b[0;31m---------------------------------------------------------------------------\u001b[0m",
      "\u001b[0;31mNameError\u001b[0m                                 Traceback (most recent call last)",
      "\u001b[0;32m<ipython-input-14-cbf0fa083604>\u001b[0m in \u001b[0;36m<module>\u001b[0;34m\u001b[0m\n\u001b[0;32m----> 1\u001b[0;31m \u001b[0mX\u001b[0m \u001b[0;34m=\u001b[0m \u001b[0;34m[\u001b[0m\u001b[0mx1\u001b[0m\u001b[0;34m,\u001b[0m \u001b[0mx2\u001b[0m\u001b[0;34m,\u001b[0m \u001b[0mx3\u001b[0m\u001b[0;34m]\u001b[0m\u001b[0;34m\u001b[0m\u001b[0;34m\u001b[0m\u001b[0m\n\u001b[0m\u001b[1;32m      2\u001b[0m \u001b[0mx1\u001b[0m \u001b[0;34m=\u001b[0m \u001b[0;34m[\u001b[0m\u001b[0;36m1\u001b[0m\u001b[0;34m,\u001b[0m\u001b[0;36m42\u001b[0m\u001b[0;34m,\u001b[0m\u001b[0;36m0.343\u001b[0m\u001b[0;34m,\u001b[0m \u001b[0;36m42342\u001b[0m\u001b[0;34m]\u001b[0m\u001b[0;34m\u001b[0m\u001b[0;34m\u001b[0m\u001b[0m\n\u001b[1;32m      3\u001b[0m \u001b[0my\u001b[0m \u001b[0;34m=\u001b[0m \u001b[0;34m[\u001b[0m\u001b[0;36m1\u001b[0m\u001b[0;34m,\u001b[0m \u001b[0;36m0\u001b[0m\u001b[0;34m,\u001b[0m \u001b[0;36m1\u001b[0m\u001b[0;34m]\u001b[0m\u001b[0;34m\u001b[0m\u001b[0;34m\u001b[0m\u001b[0m\n\u001b[1;32m      4\u001b[0m \u001b[0;34m\u001b[0m\u001b[0m\n\u001b[1;32m      5\u001b[0m \u001b[0my_\u001b[0m \u001b[0;34m=\u001b[0m \u001b[0mneural_net\u001b[0m\u001b[0;34m(\u001b[0m\u001b[0mx1\u001b[0m\u001b[0;34m)\u001b[0m\u001b[0;34m\u001b[0m\u001b[0;34m\u001b[0m\u001b[0m\n",
      "\u001b[0;31mNameError\u001b[0m: name 'x1' is not defined"
     ]
    }
   ],
   "source": [
    "X = [x1, x2, x3]\n",
    "x1 = [1,42,0.343, 42342]\n",
    "y = [1, 0, 1]\n",
    "\n",
    "y_ = neural_net(x1)\n",
    "y_ = 0.0-1.0"
   ]
  },
  {
   "cell_type": "code",
   "execution_count": 21,
   "id": "711b6377",
   "metadata": {},
   "outputs": [],
   "source": [
    "w = 0.1\n",
    "\n",
    "def nnet(x, w):\n",
    "    return x * w\n",
    "\n",
    "x = 0.56 # seconds\n",
    "y = 1\n",
    "\n",
    "y_ = nnet(x, w)"
   ]
  },
  {
   "cell_type": "code",
   "execution_count": 23,
   "id": "e7e9571a",
   "metadata": {},
   "outputs": [
    {
     "name": "stdout",
     "output_type": "stream",
     "text": [
      "0.8911359999999999\n"
     ]
    }
   ],
   "source": [
    "def err(x, w):\n",
    "    return (nnet(x, w) - y)**2\n",
    "print(err(x, w))"
   ]
  },
  {
   "cell_type": "code",
   "execution_count": 24,
   "id": "90d9d6df",
   "metadata": {},
   "outputs": [
    {
     "name": "stdout",
     "output_type": "stream",
     "text": [
      "0.88059456\n",
      "0.90174016\n"
     ]
    }
   ],
   "source": [
    "w_ = w + step\n",
    "print(err(x, w_))\n",
    "w_ = w - step\n",
    "print(err(x, w_))"
   ]
  },
  {
   "cell_type": "code",
   "execution_count": 26,
   "id": "7b1d5cb3",
   "metadata": {},
   "outputs": [
    {
     "name": "stdout",
     "output_type": "stream",
     "text": [
      "Error: 1.0204191359994591e-05 ; y^: 0.9968056000000008\n",
      "Error: 8.493727359984375e-06 ; y^: 0.9970856000000027\n",
      "Error: 6.94006335997621e-06 ; y^: 0.9973656000000045\n",
      "Error: 5.543199359970101e-06 ; y^: 0.9976456000000063\n",
      "Error: 4.3031353599660466e-06 ; y^: 0.9979256000000082\n",
      "Error: 3.2198713599640466e-06 ; y^: 0.99820560000001\n",
      "Error: 2.293407359964101e-06 ; y^: 0.9984856000000119\n",
      "Error: 1.5237433599662098e-06 ; y^: 0.9987656000000137\n",
      "Error: 9.10879359970373e-07 ; y^: 0.9990456000000155\n",
      "Error: 4.548153599765908e-07 ; y^: 0.9993256000000174\n",
      "Error: 1.5555135998486301e-07 ; y^: 0.9996056000000192\n",
      "Error: 1.3087359995189654e-08 ; y^: 0.999885600000021\n",
      "Error: 5.7599998953485764e-12 ; y^: 0.9999976000000218\n",
      "Error: 5.7599998953485764e-12 ; y^: 0.9999976000000218\n",
      "Error: 5.7599998953485764e-12 ; y^: 0.9999976000000218\n",
      "Error: 5.7599998953485764e-12 ; y^: 0.9999976000000218\n",
      "Error: 5.7599998953485764e-12 ; y^: 0.9999976000000218\n",
      "Error: 5.7599998953485764e-12 ; y^: 0.9999976000000218\n",
      "Error: 5.7599998953485764e-12 ; y^: 0.9999976000000218\n",
      "Error: 5.7599998953485764e-12 ; y^: 0.9999976000000218\n"
     ]
    }
   ],
   "source": [
    "step = 0.00001\n",
    "\n",
    "for it in range(1000):\n",
    "    w1 = w + step\n",
    "    e1 = err(x, w1)\n",
    "    w2 = w - step\n",
    "    e2 = err(x, w2)\n",
    "    if e1 < e2:\n",
    "        w = w1\n",
    "    else:\n",
    "        w = w2\n",
    "    y_ = nnet(x, w)\n",
    "    if it % 50 == 0:\n",
    "        print(\"Error:\", err(x, w), \"; y^:\", y_)"
   ]
  },
  {
   "cell_type": "code",
   "execution_count": null,
   "id": "492e098e",
   "metadata": {},
   "outputs": [],
   "source": []
  }
 ],
 "metadata": {
  "kernelspec": {
   "display_name": "Python 3",
   "language": "python",
   "name": "python3"
  },
  "language_info": {
   "codemirror_mode": {
    "name": "ipython",
    "version": 3
   },
   "file_extension": ".py",
   "mimetype": "text/x-python",
   "name": "python",
   "nbconvert_exporter": "python",
   "pygments_lexer": "ipython3",
   "version": "3.8.7"
  }
 },
 "nbformat": 4,
 "nbformat_minor": 5
}
